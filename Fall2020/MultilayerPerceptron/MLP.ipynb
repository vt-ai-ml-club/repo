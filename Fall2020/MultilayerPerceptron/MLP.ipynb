{
  "nbformat": 4,
  "nbformat_minor": 0,
  "metadata": {
    "colab": {
      "name": "MLP.ipynb",
      "provenance": []
    },
    "kernelspec": {
      "name": "python3",
      "display_name": "Python 3"
    }
  },
  "cells": [
    {
      "cell_type": "code",
      "metadata": {
        "id": "swLnJ1fV6NMs"
      },
      "source": [
        "import numpy as np                                        # vector, matrix manipulation\n",
        "import pandas as pd                                       # handling data frames\n",
        "from sklearn.model_selection import train_test_split      # splitting our data into training/testing\n",
        "from sklearn.neural_network import MLPClassifier          # Multilayer Perceptron for classification\n",
        "from sklearn.utils import resample                        # generate more sample data"
      ],
      "execution_count": null,
      "outputs": []
    },
    {
      "cell_type": "code",
      "metadata": {
        "id": "RbkQqPrf7tjV",
        "outputId": "928af498-dd12-4b67-c924-56d29cd06c3c",
        "colab": {
          "base_uri": "https://localhost:8080/",
          "height": 204
        }
      },
      "source": [
        "# Send an http request and read the request response as a csv\n",
        "url = \"https://raw.githubusercontent.com/ajh1143/GraduateAdmissionsDataScienceAnalysis/master/Dataset/Admission_Predict.csv\"\n",
        "admission_data = pd.read_csv(url)\n",
        "admission_data.head()"
      ],
      "execution_count": null,
      "outputs": [
        {
          "output_type": "execute_result",
          "data": {
            "text/html": [
              "<div>\n",
              "<style scoped>\n",
              "    .dataframe tbody tr th:only-of-type {\n",
              "        vertical-align: middle;\n",
              "    }\n",
              "\n",
              "    .dataframe tbody tr th {\n",
              "        vertical-align: top;\n",
              "    }\n",
              "\n",
              "    .dataframe thead th {\n",
              "        text-align: right;\n",
              "    }\n",
              "</style>\n",
              "<table border=\"1\" class=\"dataframe\">\n",
              "  <thead>\n",
              "    <tr style=\"text-align: right;\">\n",
              "      <th></th>\n",
              "      <th>Serial No.</th>\n",
              "      <th>GRE Score</th>\n",
              "      <th>TOEFL Score</th>\n",
              "      <th>University Rating</th>\n",
              "      <th>SOP</th>\n",
              "      <th>LOR</th>\n",
              "      <th>CGPA</th>\n",
              "      <th>Research</th>\n",
              "      <th>Chance of Admit</th>\n",
              "    </tr>\n",
              "  </thead>\n",
              "  <tbody>\n",
              "    <tr>\n",
              "      <th>0</th>\n",
              "      <td>1</td>\n",
              "      <td>337</td>\n",
              "      <td>118</td>\n",
              "      <td>4</td>\n",
              "      <td>4.5</td>\n",
              "      <td>4.5</td>\n",
              "      <td>9.65</td>\n",
              "      <td>1</td>\n",
              "      <td>0.92</td>\n",
              "    </tr>\n",
              "    <tr>\n",
              "      <th>1</th>\n",
              "      <td>2</td>\n",
              "      <td>324</td>\n",
              "      <td>107</td>\n",
              "      <td>4</td>\n",
              "      <td>4.0</td>\n",
              "      <td>4.5</td>\n",
              "      <td>8.87</td>\n",
              "      <td>1</td>\n",
              "      <td>0.76</td>\n",
              "    </tr>\n",
              "    <tr>\n",
              "      <th>2</th>\n",
              "      <td>3</td>\n",
              "      <td>316</td>\n",
              "      <td>104</td>\n",
              "      <td>3</td>\n",
              "      <td>3.0</td>\n",
              "      <td>3.5</td>\n",
              "      <td>8.00</td>\n",
              "      <td>1</td>\n",
              "      <td>0.72</td>\n",
              "    </tr>\n",
              "    <tr>\n",
              "      <th>3</th>\n",
              "      <td>4</td>\n",
              "      <td>322</td>\n",
              "      <td>110</td>\n",
              "      <td>3</td>\n",
              "      <td>3.5</td>\n",
              "      <td>2.5</td>\n",
              "      <td>8.67</td>\n",
              "      <td>1</td>\n",
              "      <td>0.80</td>\n",
              "    </tr>\n",
              "    <tr>\n",
              "      <th>4</th>\n",
              "      <td>5</td>\n",
              "      <td>314</td>\n",
              "      <td>103</td>\n",
              "      <td>2</td>\n",
              "      <td>2.0</td>\n",
              "      <td>3.0</td>\n",
              "      <td>8.21</td>\n",
              "      <td>0</td>\n",
              "      <td>0.65</td>\n",
              "    </tr>\n",
              "  </tbody>\n",
              "</table>\n",
              "</div>"
            ],
            "text/plain": [
              "   Serial No.  GRE Score  TOEFL Score  ...  CGPA  Research  Chance of Admit \n",
              "0           1        337          118  ...  9.65         1              0.92\n",
              "1           2        324          107  ...  8.87         1              0.76\n",
              "2           3        316          104  ...  8.00         1              0.72\n",
              "3           4        322          110  ...  8.67         1              0.80\n",
              "4           5        314          103  ...  8.21         0              0.65\n",
              "\n",
              "[5 rows x 9 columns]"
            ]
          },
          "metadata": {
            "tags": []
          },
          "execution_count": 2
        }
      ]
    },
    {
      "cell_type": "code",
      "metadata": {
        "id": "Ql2KXQ6t86EG",
        "outputId": "5b21e13b-a1b1-4a5d-f372-7601fd27bab6",
        "colab": {
          "base_uri": "https://localhost:8080/",
          "height": 204
        }
      },
      "source": [
        "# Drop a useless column and create a new variable\n",
        "data = admission_data.copy()\n",
        "data.drop('Serial No.', axis=1, inplace=True)\n",
        "data['Admission'] = data['Chance of Admit '].apply(lambda p: 0 if p < 0.5 else 1)\n",
        "data.drop('Chance of Admit ', axis=1, inplace=True)\n",
        "data.head()"
      ],
      "execution_count": null,
      "outputs": [
        {
          "output_type": "execute_result",
          "data": {
            "text/html": [
              "<div>\n",
              "<style scoped>\n",
              "    .dataframe tbody tr th:only-of-type {\n",
              "        vertical-align: middle;\n",
              "    }\n",
              "\n",
              "    .dataframe tbody tr th {\n",
              "        vertical-align: top;\n",
              "    }\n",
              "\n",
              "    .dataframe thead th {\n",
              "        text-align: right;\n",
              "    }\n",
              "</style>\n",
              "<table border=\"1\" class=\"dataframe\">\n",
              "  <thead>\n",
              "    <tr style=\"text-align: right;\">\n",
              "      <th></th>\n",
              "      <th>GRE Score</th>\n",
              "      <th>TOEFL Score</th>\n",
              "      <th>University Rating</th>\n",
              "      <th>SOP</th>\n",
              "      <th>LOR</th>\n",
              "      <th>CGPA</th>\n",
              "      <th>Research</th>\n",
              "      <th>Admission</th>\n",
              "    </tr>\n",
              "  </thead>\n",
              "  <tbody>\n",
              "    <tr>\n",
              "      <th>0</th>\n",
              "      <td>337</td>\n",
              "      <td>118</td>\n",
              "      <td>4</td>\n",
              "      <td>4.5</td>\n",
              "      <td>4.5</td>\n",
              "      <td>9.65</td>\n",
              "      <td>1</td>\n",
              "      <td>1</td>\n",
              "    </tr>\n",
              "    <tr>\n",
              "      <th>1</th>\n",
              "      <td>324</td>\n",
              "      <td>107</td>\n",
              "      <td>4</td>\n",
              "      <td>4.0</td>\n",
              "      <td>4.5</td>\n",
              "      <td>8.87</td>\n",
              "      <td>1</td>\n",
              "      <td>1</td>\n",
              "    </tr>\n",
              "    <tr>\n",
              "      <th>2</th>\n",
              "      <td>316</td>\n",
              "      <td>104</td>\n",
              "      <td>3</td>\n",
              "      <td>3.0</td>\n",
              "      <td>3.5</td>\n",
              "      <td>8.00</td>\n",
              "      <td>1</td>\n",
              "      <td>1</td>\n",
              "    </tr>\n",
              "    <tr>\n",
              "      <th>3</th>\n",
              "      <td>322</td>\n",
              "      <td>110</td>\n",
              "      <td>3</td>\n",
              "      <td>3.5</td>\n",
              "      <td>2.5</td>\n",
              "      <td>8.67</td>\n",
              "      <td>1</td>\n",
              "      <td>1</td>\n",
              "    </tr>\n",
              "    <tr>\n",
              "      <th>4</th>\n",
              "      <td>314</td>\n",
              "      <td>103</td>\n",
              "      <td>2</td>\n",
              "      <td>2.0</td>\n",
              "      <td>3.0</td>\n",
              "      <td>8.21</td>\n",
              "      <td>0</td>\n",
              "      <td>1</td>\n",
              "    </tr>\n",
              "  </tbody>\n",
              "</table>\n",
              "</div>"
            ],
            "text/plain": [
              "   GRE Score  TOEFL Score  University Rating  ...  CGPA  Research  Admission\n",
              "0        337          118                  4  ...  9.65         1          1\n",
              "1        324          107                  4  ...  8.87         1          1\n",
              "2        316          104                  3  ...  8.00         1          1\n",
              "3        322          110                  3  ...  8.67         1          1\n",
              "4        314          103                  2  ...  8.21         0          1\n",
              "\n",
              "[5 rows x 8 columns]"
            ]
          },
          "metadata": {
            "tags": []
          },
          "execution_count": 3
        }
      ]
    },
    {
      "cell_type": "code",
      "metadata": {
        "id": "H9zUEeGB9l0e",
        "outputId": "2a18c45b-4a3d-43d1-9da4-bd52f3c1d5a1",
        "colab": {
          "base_uri": "https://localhost:8080/",
          "height": 51
        }
      },
      "source": [
        "# Define our input variables and our output variable\n",
        "x = data.drop('Admission', axis=1)      \n",
        "y = data['Admission']\n",
        "\n",
        "# Create our train/test split (We'll traing with 15% of the dataset)\n",
        "x_train, x_test, y_train, y_test = train_test_split(x, y, test_size=0.15, random_state=0)\n",
        "print(\"# of training data points %d\" % (x_train.size))\n",
        "print(\"# of testing data points: %d\" % (x_test.size))"
      ],
      "execution_count": null,
      "outputs": [
        {
          "output_type": "stream",
          "text": [
            "# of training data points 2380\n",
            "# of testing data points: 420\n"
          ],
          "name": "stdout"
        }
      ]
    },
    {
      "cell_type": "code",
      "metadata": {
        "id": "XudGqNVBAovJ",
        "outputId": "8fc04578-62b7-4358-9e4c-ca4ed3ce62b7",
        "colab": {
          "base_uri": "https://localhost:8080/",
          "height": 34
        }
      },
      "source": [
        "# Create our model with 3 hidden layers\n",
        "mlp = MLPClassifier(hidden_layer_sizes=(2,4,2), activation='logistic', max_iter=1000)\n",
        "\n",
        "# Train our model using backpropagation (we'll cover this next time)\n",
        "mlp.fit(x_train, y_train)\n",
        "\n",
        "# Let's see how well our MLP does\n",
        "out_of_sample_accuracy = mlp.score(x_test, y_test)\n",
        "print('Our MLP has an %.2f percent accuracy' % (out_of_sample_accuracy * 100))"
      ],
      "execution_count": null,
      "outputs": [
        {
          "output_type": "stream",
          "text": [
            "Our MLP has an 91.67 percent accuracy\n"
          ],
          "name": "stdout"
        }
      ]
    },
    {
      "cell_type": "code",
      "metadata": {
        "id": "j4cxgoqAeBtU",
        "outputId": "45cb2fbc-5fad-43ee-c9ef-deb4df67bdf1",
        "colab": {
          "base_uri": "https://localhost:8080/",
          "height": 204
        }
      },
      "source": [
        "# Let's look at data for someone who had an admission chance < 0.5\n",
        "print(data[data['Admission'] == 0].iloc[0])\n",
        "\n",
        "GRE = 323\n",
        "TOEFL = 108\n",
        "UNI_RATING = 3\n",
        "SOP = 3.5\n",
        "LOR = 3.0\n",
        "CGPA = 8.60\n",
        "RESEARCH = 0\n",
        "example = np.array([[GRE, TOEFL, UNI_RATING, SOP, LOR, CGPA, RESEARCH]])\n",
        "\n",
        "prediction = mlp.predict(example)\n",
        "\n",
        "print('---')\n",
        "print('Were they admitted? {}'.format('YES' if prediction == 1 else 'NO'))"
      ],
      "execution_count": null,
      "outputs": [
        {
          "output_type": "stream",
          "text": [
            "GRE Score            323.0\n",
            "TOEFL Score          108.0\n",
            "University Rating      3.0\n",
            "SOP                    3.5\n",
            "LOR                    3.0\n",
            "CGPA                   8.6\n",
            "Research               0.0\n",
            "Admission              0.0\n",
            "Name: 9, dtype: float64\n",
            "---\n",
            "Were they admitted? YES\n"
          ],
          "name": "stdout"
        }
      ]
    },
    {
      "cell_type": "markdown",
      "metadata": {
        "id": "xrRNOtcsjlTC"
      },
      "source": [
        "## Why could this be?\n",
        "\n",
        "We need good data to have a good model."
      ]
    },
    {
      "cell_type": "code",
      "metadata": {
        "id": "flDCOp-Lhgm2",
        "outputId": "2b0f9964-f4ec-47da-b046-df3cf12d840d",
        "colab": {
          "base_uri": "https://localhost:8080/",
          "height": 51
        }
      },
      "source": [
        "print('# of \\'no admissions\\' %d' % (len(data[data.Admission == 0])))\n",
        "print('# of \\'admissions\\' %d' % (len(data[data.Admission == 1])))"
      ],
      "execution_count": null,
      "outputs": [
        {
          "output_type": "stream",
          "text": [
            "# of 'no admissions' 33\n",
            "# of 'admissions' 367\n"
          ],
          "name": "stdout"
        }
      ]
    },
    {
      "cell_type": "markdown",
      "metadata": {
        "id": "TEHd1zO7bahk"
      },
      "source": [
        "**[Resampling](https://en.wikipedia.org/wiki/Resampling_(statistics))** is a tool we can use to handle data with imbalanced classes.\n"
      ]
    },
    {
      "cell_type": "code",
      "metadata": {
        "id": "CXV9G8lp7Npg"
      },
      "source": [
        "# Separate majority and minority classes\n",
        "data_majority = data[data.Admission==1]\n",
        "data_minority = data[data.Admission==0]\n",
        " \n",
        " \n",
        "# Upsample minority class\n",
        "data_minority_upsampled = resample(data_minority, \n",
        "                                 replace=True,                    # sample with replacement\n",
        "                                 n_samples=len(data_majority),    # to match majority class\n",
        "                                 random_state=123)                # reproducible results\n",
        " \n",
        "\n",
        "# Combine majority class with upsampled minority class\n",
        "new_data = pd.concat([data_majority, data_minority_upsampled])"
      ],
      "execution_count": null,
      "outputs": []
    },
    {
      "cell_type": "markdown",
      "metadata": {
        "id": "zlEh_rUSbvpD"
      },
      "source": [
        "### Run it back"
      ]
    },
    {
      "cell_type": "code",
      "metadata": {
        "id": "3yKPm9UM8FZa",
        "outputId": "a4339989-5050-4f4f-dc4b-e5824f26b1ae",
        "colab": {
          "base_uri": "https://localhost:8080/",
          "height": 102
        }
      },
      "source": [
        "# Define our predictor variables and our response variable in our new dataset\n",
        "x = new_data.drop('Admission', axis=1)      \n",
        "y = new_data['Admission']\n",
        "\n",
        "\n",
        "# Create our train/test split with the new data\n",
        "x_train, x_test, y_train, y_test = train_test_split(x, y, test_size=0.15, random_state=0)\n",
        "\n",
        "\n",
        "# Create a MLP using a sigmoid and relu activation function\n",
        "mlp_log = MLPClassifier(hidden_layer_sizes=(2,4,2), activation='logistic', max_iter=1000, random_state=0)\n",
        "mlp_relu = MLPClassifier(hidden_layer_sizes=(2,4,2), activation='relu', max_iter=1000, random_state=0)\n",
        "\n",
        "mlp_log.fit(x_train, y_train)\n",
        "mlp_relu.fit(x_train, y_train)\n",
        "\n",
        "\n",
        "# Let's see how well our MLP does\n",
        "out_of_sample_accuracy_log = mlp_log.score(x_test, y_test)\n",
        "out_of_sample_accuracy_relu = mlp_relu.score(x_test, y_test)\n",
        "print('Our MLP w/ sigmoid has an %.2f percent accuracy' % (out_of_sample_accuracy_log * 100))\n",
        "print('Our MLP w/ relu has an %.2f percent accuracy' % (out_of_sample_accuracy_relu * 100))\n",
        "\n",
        "\n",
        "prediction_log = mlp_log.predict(example)\n",
        "prediction_relu = mlp_relu.predict(example)\n",
        "print('---')\n",
        "print('MLP w/ sigmoid: Were they admitted? {}'.format('YES' if prediction_log == 1 else 'NO'))\n",
        "print('MLP w/ relu   : Were they admitted? {}'.format('YES' if prediction_relu == 1 else 'NO'))"
      ],
      "execution_count": null,
      "outputs": [
        {
          "output_type": "stream",
          "text": [
            "Our MLP w/ sigmoid has an 45.05 percent accuracy\n",
            "Our MLP w/ relu has an 75.68 percent accuracy\n",
            "---\n",
            "MLP w/ sigmoid: Were they admitted? YES\n",
            "MLP w/ relu   : Were they admitted? NO\n"
          ],
          "name": "stdout"
        }
      ]
    }
  ]
}