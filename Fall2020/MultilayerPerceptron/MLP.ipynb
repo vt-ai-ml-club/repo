{
  "nbformat": 4,
  "nbformat_minor": 0,
  "metadata": {
    "colab": {
      "name": "MLP.ipynb",
      "provenance": [],
      "include_colab_link": true
    },
    "kernelspec": {
      "name": "python3",
      "display_name": "Python 3"
    }
  },
  "cells": [
    {
      "cell_type": "markdown",
      "metadata": {
        "id": "view-in-github",
        "colab_type": "text"
      },
      "source": [
        "<a href=\"https://colab.research.google.com/github/vt-ai-ml-club/repo/blob/master/Fall2020/MultilayerPerceptron/MLP.ipynb\" target=\"_parent\"><img src=\"https://colab.research.google.com/assets/colab-badge.svg\" alt=\"Open In Colab\"/></a>"
      ]
    },
    {
      "cell_type": "code",
      "metadata": {
        "id": "_l9o9G-zhaPN"
      },
      "source": [
        "import numpy as np                                        # vector, matrix manipulation\n",
        "import pandas as pd                                       # handling data frames\n",
        "from sklearn.model_selection import train_test_split      # splitting our data into training/testing\n",
        "from sklearn.neural_network import MLPClassifier          # Multilayer Perceptron for classification"
      ],
      "execution_count": null,
      "outputs": []
    },
    {
      "cell_type": "markdown",
      "metadata": {
        "id": "mcjRFDRLhiIg"
      },
      "source": [
        "We are going to work with admission data from a population of India graduate students.\n",
        "\n",
        "https://www.kaggle.com/mohansacharya/graduate-admissions"
      ]
    },
    {
      "cell_type": "code",
      "metadata": {
        "id": "er3rQpJQhjO4",
        "outputId": "87b55309-2c6a-47f4-8d83-385f2a9c2f42",
        "colab": {
          "base_uri": "https://localhost:8080/",
          "height": 204
        }
      },
      "source": [
        "# Send an http request and read the request response as a csv\n",
        "url = \"https://raw.githubusercontent.com/ajh1143/GraduateAdmissionsDataScienceAnalysis/master/Dataset/Admission_Predict.csv\"\n",
        "admission_data = pd.read_csv(url)\n",
        "admission_data.head()"
      ],
      "execution_count": null,
      "outputs": [
        {
          "output_type": "execute_result",
          "data": {
            "text/html": [
              "<div>\n",
              "<style scoped>\n",
              "    .dataframe tbody tr th:only-of-type {\n",
              "        vertical-align: middle;\n",
              "    }\n",
              "\n",
              "    .dataframe tbody tr th {\n",
              "        vertical-align: top;\n",
              "    }\n",
              "\n",
              "    .dataframe thead th {\n",
              "        text-align: right;\n",
              "    }\n",
              "</style>\n",
              "<table border=\"1\" class=\"dataframe\">\n",
              "  <thead>\n",
              "    <tr style=\"text-align: right;\">\n",
              "      <th></th>\n",
              "      <th>Serial No.</th>\n",
              "      <th>GRE Score</th>\n",
              "      <th>TOEFL Score</th>\n",
              "      <th>University Rating</th>\n",
              "      <th>SOP</th>\n",
              "      <th>LOR</th>\n",
              "      <th>CGPA</th>\n",
              "      <th>Research</th>\n",
              "      <th>Chance of Admit</th>\n",
              "    </tr>\n",
              "  </thead>\n",
              "  <tbody>\n",
              "    <tr>\n",
              "      <th>0</th>\n",
              "      <td>1</td>\n",
              "      <td>337</td>\n",
              "      <td>118</td>\n",
              "      <td>4</td>\n",
              "      <td>4.5</td>\n",
              "      <td>4.5</td>\n",
              "      <td>9.65</td>\n",
              "      <td>1</td>\n",
              "      <td>0.92</td>\n",
              "    </tr>\n",
              "    <tr>\n",
              "      <th>1</th>\n",
              "      <td>2</td>\n",
              "      <td>324</td>\n",
              "      <td>107</td>\n",
              "      <td>4</td>\n",
              "      <td>4.0</td>\n",
              "      <td>4.5</td>\n",
              "      <td>8.87</td>\n",
              "      <td>1</td>\n",
              "      <td>0.76</td>\n",
              "    </tr>\n",
              "    <tr>\n",
              "      <th>2</th>\n",
              "      <td>3</td>\n",
              "      <td>316</td>\n",
              "      <td>104</td>\n",
              "      <td>3</td>\n",
              "      <td>3.0</td>\n",
              "      <td>3.5</td>\n",
              "      <td>8.00</td>\n",
              "      <td>1</td>\n",
              "      <td>0.72</td>\n",
              "    </tr>\n",
              "    <tr>\n",
              "      <th>3</th>\n",
              "      <td>4</td>\n",
              "      <td>322</td>\n",
              "      <td>110</td>\n",
              "      <td>3</td>\n",
              "      <td>3.5</td>\n",
              "      <td>2.5</td>\n",
              "      <td>8.67</td>\n",
              "      <td>1</td>\n",
              "      <td>0.80</td>\n",
              "    </tr>\n",
              "    <tr>\n",
              "      <th>4</th>\n",
              "      <td>5</td>\n",
              "      <td>314</td>\n",
              "      <td>103</td>\n",
              "      <td>2</td>\n",
              "      <td>2.0</td>\n",
              "      <td>3.0</td>\n",
              "      <td>8.21</td>\n",
              "      <td>0</td>\n",
              "      <td>0.65</td>\n",
              "    </tr>\n",
              "  </tbody>\n",
              "</table>\n",
              "</div>"
            ],
            "text/plain": [
              "   Serial No.  GRE Score  TOEFL Score  ...  CGPA  Research  Chance of Admit \n",
              "0           1        337          118  ...  9.65         1              0.92\n",
              "1           2        324          107  ...  8.87         1              0.76\n",
              "2           3        316          104  ...  8.00         1              0.72\n",
              "3           4        322          110  ...  8.67         1              0.80\n",
              "4           5        314          103  ...  8.21         0              0.65\n",
              "\n",
              "[5 rows x 9 columns]"
            ]
          },
          "metadata": {
            "tags": []
          },
          "execution_count": 2
        }
      ]
    },
    {
      "cell_type": "code",
      "metadata": {
        "id": "g1-EO9IUhkSo",
        "outputId": "1caf814c-c20d-4f8b-a0fa-5713ae62a185",
        "colab": {
          "base_uri": "https://localhost:8080/",
          "height": 204
        }
      },
      "source": [
        "# Drop a useless column and create a new variable\n",
        "data = admission_data.copy()\n",
        "data.drop('Serial No.', axis=1, inplace=True)\n",
        "data['Admission'] = data['Chance of Admit '].apply(lambda p: 0 if p < 0.5 else 1)\n",
        "data.drop('Chance of Admit ', axis=1, inplace=True)\n",
        "data.head()"
      ],
      "execution_count": null,
      "outputs": [
        {
          "output_type": "execute_result",
          "data": {
            "text/html": [
              "<div>\n",
              "<style scoped>\n",
              "    .dataframe tbody tr th:only-of-type {\n",
              "        vertical-align: middle;\n",
              "    }\n",
              "\n",
              "    .dataframe tbody tr th {\n",
              "        vertical-align: top;\n",
              "    }\n",
              "\n",
              "    .dataframe thead th {\n",
              "        text-align: right;\n",
              "    }\n",
              "</style>\n",
              "<table border=\"1\" class=\"dataframe\">\n",
              "  <thead>\n",
              "    <tr style=\"text-align: right;\">\n",
              "      <th></th>\n",
              "      <th>GRE Score</th>\n",
              "      <th>TOEFL Score</th>\n",
              "      <th>University Rating</th>\n",
              "      <th>SOP</th>\n",
              "      <th>LOR</th>\n",
              "      <th>CGPA</th>\n",
              "      <th>Research</th>\n",
              "      <th>Admission</th>\n",
              "    </tr>\n",
              "  </thead>\n",
              "  <tbody>\n",
              "    <tr>\n",
              "      <th>0</th>\n",
              "      <td>337</td>\n",
              "      <td>118</td>\n",
              "      <td>4</td>\n",
              "      <td>4.5</td>\n",
              "      <td>4.5</td>\n",
              "      <td>9.65</td>\n",
              "      <td>1</td>\n",
              "      <td>1</td>\n",
              "    </tr>\n",
              "    <tr>\n",
              "      <th>1</th>\n",
              "      <td>324</td>\n",
              "      <td>107</td>\n",
              "      <td>4</td>\n",
              "      <td>4.0</td>\n",
              "      <td>4.5</td>\n",
              "      <td>8.87</td>\n",
              "      <td>1</td>\n",
              "      <td>1</td>\n",
              "    </tr>\n",
              "    <tr>\n",
              "      <th>2</th>\n",
              "      <td>316</td>\n",
              "      <td>104</td>\n",
              "      <td>3</td>\n",
              "      <td>3.0</td>\n",
              "      <td>3.5</td>\n",
              "      <td>8.00</td>\n",
              "      <td>1</td>\n",
              "      <td>1</td>\n",
              "    </tr>\n",
              "    <tr>\n",
              "      <th>3</th>\n",
              "      <td>322</td>\n",
              "      <td>110</td>\n",
              "      <td>3</td>\n",
              "      <td>3.5</td>\n",
              "      <td>2.5</td>\n",
              "      <td>8.67</td>\n",
              "      <td>1</td>\n",
              "      <td>1</td>\n",
              "    </tr>\n",
              "    <tr>\n",
              "      <th>4</th>\n",
              "      <td>314</td>\n",
              "      <td>103</td>\n",
              "      <td>2</td>\n",
              "      <td>2.0</td>\n",
              "      <td>3.0</td>\n",
              "      <td>8.21</td>\n",
              "      <td>0</td>\n",
              "      <td>1</td>\n",
              "    </tr>\n",
              "  </tbody>\n",
              "</table>\n",
              "</div>"
            ],
            "text/plain": [
              "   GRE Score  TOEFL Score  University Rating  ...  CGPA  Research  Admission\n",
              "0        337          118                  4  ...  9.65         1          1\n",
              "1        324          107                  4  ...  8.87         1          1\n",
              "2        316          104                  3  ...  8.00         1          1\n",
              "3        322          110                  3  ...  8.67         1          1\n",
              "4        314          103                  2  ...  8.21         0          1\n",
              "\n",
              "[5 rows x 8 columns]"
            ]
          },
          "metadata": {
            "tags": []
          },
          "execution_count": 3
        }
      ]
    },
    {
      "cell_type": "markdown",
      "metadata": {
        "id": "vMIBUPF1hl2x"
      },
      "source": [
        "Exploratory Data Analysis"
      ]
    },
    {
      "cell_type": "code",
      "metadata": {
        "id": "YJhrO9t5hmoK",
        "outputId": "5440a611-493b-4ba4-e2d4-9cc39708424b",
        "colab": {
          "base_uri": "https://localhost:8080/",
          "height": 295
        }
      },
      "source": [
        "import matplotlib.pyplot as plt\n",
        "\n",
        "def plot_data(dataset):\n",
        "  # partition the data based off if they were admitted or not\n",
        "  admitted = dataset.loc[dataset['Admission'] == 1]\n",
        "  not_admitted = dataset.loc[dataset['Admission'] == 0]\n",
        "\n",
        "  plt.scatter(admitted['GRE Score'], admitted['CGPA'], color='g', marker='.')\n",
        "  plt.scatter(not_admitted['GRE Score'], not_admitted['CGPA'], color='r', marker='.')\n",
        "\n",
        "  plt.title('Admission Data (green is admitted)')\n",
        "  plt.xlabel('GRE Score')\n",
        "  plt.ylabel('College GPA')\n",
        "\n",
        "plot_data(data)"
      ],
      "execution_count": null,
      "outputs": [
        {
          "output_type": "display_data",
          "data": {
            "image/png": "[encoded data removed]",
            "text/plain": [
              "<Figure size 432x288 with 1 Axes>"
            ]
          },
          "metadata": {
            "tags": [],
            "needs_background": "light"
          }
        }
      ]
    },
    {
      "cell_type": "code",
      "metadata": {
        "id": "kO_xiU62hoDW",
        "outputId": "d9f946db-e9fc-4284-bbe1-b2199e74f654",
        "colab": {
          "base_uri": "https://localhost:8080/",
          "height": 51
        }
      },
      "source": [
        "# Define our input variables and our output variable\n",
        "x = data.drop('Admission', axis=1)      \n",
        "y = data['Admission']\n",
        "\n",
        "# Create our train/test split (We'll traing with 15% of the dataset)\n",
        "x_train, x_test, y_train, y_test = train_test_split(x, y, test_size=0.15, random_state=0)\n",
        "print(\"# of training data points %d\" % (x_train.size))\n",
        "print(\"# of testing data points: %d\" % (x_test.size))"
      ],
      "execution_count": null,
      "outputs": [
        {
          "output_type": "stream",
          "text": [
            "# of training data points 2380\n",
            "# of testing data points: 420\n"
          ],
          "name": "stdout"
        }
      ]
    },
    {
      "cell_type": "code",
      "metadata": {
        "id": "HRO00h8ohpCS",
        "outputId": "02de9389-e273-4779-880c-4ff9921725f0",
        "colab": {
          "base_uri": "https://localhost:8080/",
          "height": 34
        }
      },
      "source": [
        "# Create our model with 3 hidden layers\n",
        "mlp = MLPClassifier(hidden_layer_sizes=(2,4,2), activation='logistic', max_iter=1000)\n",
        "\n",
        "# Train our model using backpropagation (we'll cover this next time)\n",
        "mlp.fit(x_train, y_train)\n",
        "\n",
        "# Let's see how well our MLP does\n",
        "out_of_sample_accuracy = mlp.score(x_test, y_test)\n",
        "print('Our MLP has an %.2f percent accuracy' % (out_of_sample_accuracy * 100))"
      ],
      "execution_count": null,
      "outputs": [
        {
          "output_type": "stream",
          "text": [
            "Our MLP has an 91.67 percent accuracy\n"
          ],
          "name": "stdout"
        }
      ]
    },
    {
      "cell_type": "code",
      "metadata": {
        "id": "YJIP3Hhrhp4s",
        "outputId": "0184beb4-4fe3-49b8-807c-8a48357fee34",
        "colab": {
          "base_uri": "https://localhost:8080/",
          "height": 204
        }
      },
      "source": [
        "# Let's look at data for someone who had an admission chance < 0.5\n",
        "print(data[data['Admission'] == 0].iloc[0])\n",
        "\n",
        "GRE = 323\n",
        "TOEFL = 108\n",
        "UNI_RATING = 3\n",
        "SOP = 3.5\n",
        "LOR = 3.0\n",
        "CGPA = 8.60\n",
        "RESEARCH = 0\n",
        "example = np.array([[GRE, TOEFL, UNI_RATING, SOP, LOR, CGPA, RESEARCH]])\n",
        "\n",
        "prediction = mlp.predict(example)\n",
        "\n",
        "print('---')\n",
        "print('Were they admitted? {}'.format('YES' if prediction == 1 else 'NO'))"
      ],
      "execution_count": null,
      "outputs": [
        {
          "output_type": "stream",
          "text": [
            "GRE Score            323.0\n",
            "TOEFL Score          108.0\n",
            "University Rating      3.0\n",
            "SOP                    3.5\n",
            "LOR                    3.0\n",
            "CGPA                   8.6\n",
            "Research               0.0\n",
            "Admission              0.0\n",
            "Name: 9, dtype: float64\n",
            "---\n",
            "Were they admitted? YES\n"
          ],
          "name": "stdout"
        }
      ]
    },
    {
      "cell_type": "markdown",
      "metadata": {
        "id": "4_ny8jZ9hrOM"
      },
      "source": [
        "## Why could this be?\n",
        "\n",
        "We need good data to have a good model."
      ]
    },
    {
      "cell_type": "code",
      "metadata": {
        "id": "hf1-y-JjhsTB",
        "outputId": "8560658b-e589-4871-a2fd-1dc29a0d6617",
        "colab": {
          "base_uri": "https://localhost:8080/",
          "height": 51
        }
      },
      "source": [
        "print('# of \\'no admissions\\' %d' % (len(data[data.Admission == 0])))\n",
        "print('# of \\'admissions\\' %d' % (len(data[data.Admission == 1])))"
      ],
      "execution_count": null,
      "outputs": [
        {
          "output_type": "stream",
          "text": [
            "# of 'no admissions' 33\n",
            "# of 'admissions' 367\n"
          ],
          "name": "stdout"
        }
      ]
    },
    {
      "cell_type": "markdown",
      "metadata": {
        "id": "XgJCNODxhtaG"
      },
      "source": [
        "**[Resampling](https://en.wikipedia.org/wiki/Resampling_(statistics))** is a tool we can use to handle data with imbalanced classes.\n"
      ]
    },
    {
      "cell_type": "code",
      "metadata": {
        "id": "YsqyH5NyhuZU",
        "outputId": "f077efcd-1179-44d6-9d79-01e7ff4531ae",
        "colab": {
          "base_uri": "https://localhost:8080/",
          "height": 295
        }
      },
      "source": [
        "from sklearn.utils import resample                                # generate more sample data\n",
        "\n",
        "# Separate majority and minority classes\n",
        "data_majority = data[data.Admission==1]\n",
        "data_minority = data[data.Admission==0]\n",
        " \n",
        " \n",
        "# Upsample minority class\n",
        "data_minority_upsampled = resample(data_minority, \n",
        "                                 replace=True,                    # sample with replacement\n",
        "                                 n_samples=len(data_majority),    # to match majority class\n",
        "                                 random_state=123)                # reproducible results\n",
        " \n",
        "\n",
        "# Combine majority class with upsampled minority class\n",
        "new_data = pd.concat([data_majority, data_minority_upsampled])\n",
        "\n",
        "plot_data(new_data)"
      ],
      "execution_count": null,
      "outputs": [
        {
          "output_type": "display_data",
          "data": {
            "image/png": "[encoded data removed]",
            "text/plain": [
              "<Figure size 432x288 with 1 Axes>"
            ]
          },
          "metadata": {
            "tags": [],
            "needs_background": "light"
          }
        }
      ]
    },
    {
      "cell_type": "markdown",
      "metadata": {
        "id": "Hi1o2ZWLhvxC"
      },
      "source": [
        "### Undersample\n",
        "We could also undersample (reduce number of data points for the majority class)"
      ]
    },
    {
      "cell_type": "code",
      "metadata": {
        "id": "HuUz5KmxhxMO",
        "outputId": "2e8d7fe3-8170-4ab7-973f-8f750dcc059e",
        "colab": {
          "base_uri": "https://localhost:8080/"
        }
      },
      "source": [
        "from imblearn.under_sampling import ClusterCentroids\n",
        "\n",
        "cc = ClusterCentroids(ratio={1:len(data_minority)})\n",
        "\n",
        "new_x, new_y = cc.fit_sample(x, y)\n",
        "new_data2 = pd.DataFrame(new_x, columns=x.columns)\n",
        "new_data2['Admission'] = new_y\n",
        "plot_data(new_data2)"
      ],
      "execution_count": null,
      "outputs": [
        {
          "output_type": "stream",
          "text": [
            "/usr/local/lib/python3.6/dist-packages/sklearn/utils/deprecation.py:87: FutureWarning: Function safe_indexing is deprecated; safe_indexing is deprecated in version 0.22 and will be removed in version 0.24.\n",
            "  warnings.warn(msg, category=FutureWarning)\n"
          ],
          "name": "stderr"
        },
        {
          "output_type": "display_data",
          "data": {
            "image/png": "[encoded data removed]",
            "text/plain": [
              "<Figure size 432x288 with 1 Axes>"
            ]
          },
          "metadata": {
            "tags": [],
            "needs_background": "light"
          }
        }
      ]
    },
    {
      "cell_type": "markdown",
      "metadata": {
        "id": "FOUEKUhUhzA7"
      },
      "source": [
        "### Run it back"
      ]
    },
    {
      "cell_type": "code",
      "metadata": {
        "id": "YWYQk8athxuH",
        "outputId": "859585a0-9560-4229-bc6c-ebf54e576015",
        "colab": {
          "base_uri": "https://localhost:8080/",
          "height": 102
        }
      },
      "source": [
        "# Define our predictor variables and our response variable in our new dataset\n",
        "x = new_data.drop('Admission', axis=1)      \n",
        "y = new_data['Admission']\n",
        "\n",
        "\n",
        "# Create our train/test split with the new data\n",
        "x_train, x_test, y_train, y_test = train_test_split(x, y, test_size=0.15, random_state=0)\n",
        "\n",
        "\n",
        "# Create a MLP using a sigmoid and relu activation function\n",
        "mlp_log = MLPClassifier(hidden_layer_sizes=(2,4,2), activation='logistic', max_iter=1000, random_state=0)\n",
        "mlp_relu = MLPClassifier(hidden_layer_sizes=(2,4,2), activation='relu', max_iter=1000, random_state=0)\n",
        "\n",
        "mlp_log.fit(x_train, y_train)\n",
        "mlp_relu.fit(x_train, y_train)\n",
        "\n",
        "\n",
        "# Let's see how well our MLP does\n",
        "out_of_sample_accuracy_log = mlp_log.score(x_test, y_test)\n",
        "out_of_sample_accuracy_relu = mlp_relu.score(x_test, y_test)\n",
        "print('Our MLP w/ sigmoid has an %.2f percent accuracy' % (out_of_sample_accuracy_log * 100))\n",
        "print('Our MLP w/ relu has an %.2f percent accuracy' % (out_of_sample_accuracy_relu * 100))\n",
        "\n",
        "\n",
        "prediction_log = mlp_log.predict(example)\n",
        "prediction_relu = mlp_relu.predict(example)\n",
        "print('---')\n",
        "print('MLP w/ sigmoid: Were they admitted? {}'.format('YES' if prediction_log == 1 else 'NO'))\n",
        "print('MLP w/ relu   : Were they admitted? {}'.format('YES' if prediction_relu == 1 else 'NO'))"
      ],
      "execution_count": null,
      "outputs": [
        {
          "output_type": "stream",
          "text": [
            "Our MLP w/ sigmoid has an 45.05 percent accuracy\n",
            "Our MLP w/ relu has an 75.68 percent accuracy\n",
            "---\n",
            "MLP w/ sigmoid: Were they admitted? YES\n",
            "MLP w/ relu   : Were they admitted? NO\n"
          ],
          "name": "stdout"
        }
      ]
    }
  ]
}